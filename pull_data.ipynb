{
 "cells": [
  {
   "attachments": {},
   "cell_type": "markdown",
   "metadata": {},
   "source": [
    "### Python Script that pulls 10-years of Historical Data for the top 25 SP500 stocks, BTC & ETH, and 10-yr/30-yr Treasury Yield Bond"
   ]
  },
  {
   "cell_type": "code",
   "execution_count": 1,
   "metadata": {},
   "outputs": [
    {
     "name": "stdout",
     "output_type": "stream",
     "text": [
      "Column names for ^TNX: Index(['Open', 'High', 'Low', 'Close', 'Adj Close', 'Volume'], dtype='object')\n",
      "Column names for ^TYX: Index(['Open', 'High', 'Low', 'Close', 'Adj Close', 'Volume'], dtype='object')\n",
      "Column names for AAPL: Index(['Open', 'High', 'Low', 'Close', 'Adj Close', 'Volume'], dtype='object')\n",
      "Column names for ABBV: Index(['Open', 'High', 'Low', 'Close', 'Adj Close', 'Volume'], dtype='object')\n",
      "Column names for AMZN: Index(['Open', 'High', 'Low', 'Close', 'Adj Close', 'Volume'], dtype='object')\n",
      "Column names for BAC: Index(['Open', 'High', 'Low', 'Close', 'Adj Close', 'Volume'], dtype='object')\n",
      "Column names for BRK-B: Index(['Open', 'High', 'Low', 'Close', 'Adj Close', 'Volume'], dtype='object')\n",
      "Column names for CVX: Index(['Open', 'High', 'Low', 'Close', 'Adj Close', 'Volume'], dtype='object')\n",
      "Column names for GOOG: Index(['Open', 'High', 'Low', 'Close', 'Adj Close', 'Volume'], dtype='object')\n",
      "Column names for GOOGL: Index(['Open', 'High', 'Low', 'Close', 'Adj Close', 'Volume'], dtype='object')\n",
      "Column names for HD: Index(['Open', 'High', 'Low', 'Close', 'Adj Close', 'Volume'], dtype='object')\n",
      "Column names for JNJ: Index(['Open', 'High', 'Low', 'Close', 'Adj Close', 'Volume'], dtype='object')\n",
      "Column names for JPM: Index(['Open', 'High', 'Low', 'Close', 'Adj Close', 'Volume'], dtype='object')\n",
      "Column names for KO: Index(['Open', 'High', 'Low', 'Close', 'Adj Close', 'Volume'], dtype='object')\n",
      "Column names for LLY: Index(['Open', 'High', 'Low', 'Close', 'Adj Close', 'Volume'], dtype='object')\n",
      "Column names for MA: Index(['Open', 'High', 'Low', 'Close', 'Adj Close', 'Volume'], dtype='object')\n",
      "Column names for META: Index(['Open', 'High', 'Low', 'Close', 'Adj Close', 'Volume'], dtype='object')\n",
      "Column names for MRK: Index(['Open', 'High', 'Low', 'Close', 'Adj Close', 'Volume'], dtype='object')\n",
      "Column names for MSFT: Index(['Open', 'High', 'Low', 'Close', 'Adj Close', 'Volume'], dtype='object')\n",
      "Column names for NVDA: Index(['Open', 'High', 'Low', 'Close', 'Adj Close', 'Volume'], dtype='object')\n",
      "Column names for PEP: Index(['Open', 'High', 'Low', 'Close', 'Adj Close', 'Volume'], dtype='object')\n",
      "Column names for PFE: Index(['Open', 'High', 'Low', 'Close', 'Adj Close', 'Volume'], dtype='object')\n",
      "Column names for PG: Index(['Open', 'High', 'Low', 'Close', 'Adj Close', 'Volume'], dtype='object')\n",
      "Column names for TSLA: Index(['Open', 'High', 'Low', 'Close', 'Adj Close', 'Volume'], dtype='object')\n",
      "Column names for UNH: Index(['Open', 'High', 'Low', 'Close', 'Adj Close', 'Volume'], dtype='object')\n",
      "Column names for V: Index(['Open', 'High', 'Low', 'Close', 'Adj Close', 'Volume'], dtype='object')\n",
      "Column names for XOM: Index(['Open', 'High', 'Low', 'Close', 'Adj Close', 'Volume'], dtype='object')\n",
      "Column names for BTC-USD: Index(['Open', 'High', 'Low', 'Close', 'Adj Close', 'Volume'], dtype='object')\n",
      "Column names for ETH-USD: Index(['Open', 'High', 'Low', 'Close', 'Adj Close', 'Volume'], dtype='object')\n",
      "Done!\n"
     ]
    }
   ],
   "source": [
    "import yahoo_fin.stock_info as si\n",
    "import pandas as pd\n",
    "\n",
    "# Set the start and end dates for the data\n",
    "start_date = \"2013-01-01\"\n",
    "end_date = \"2023-02-07\"\n",
    "\n",
    "# Set the list of assets\n",
    "assets = [\"^TNX\", \"^TYX\", \"AAPL\", \"ABBV\", \"AMZN\", \"BAC\", \"BRK-B\", \"CVX\", \"GOOG\", \"GOOGL\", \"HD\", \"JNJ\", \"JPM\", \"KO\", \"LLY\", \"MA\", \"META\", \"MRK\", \"MSFT\", \"NVDA\", \"PEP\", \"PFE\", \"PG\", \"TSLA\", \"UNH\", \"V\", \"XOM\", \"BTC-USD\", \"ETH-USD\"]\n",
    "\n",
    "# Loop through the assets and get the data for each one\n",
    "for asset in assets:\n",
    "  data = si.get_data(asset, start_date=start_date, end_date=end_date)\n",
    "  \n",
    "  # Rename the first column to \"Date\"\n",
    "  #data.rename(columns={data.columns[0]: \"Date\"}, inplace=True)\n",
    "  data = data.reset_index()\n",
    "  data = data.drop(columns=['ticker'], axis=1)\n",
    "  data = data.rename(columns={'index': 'Date', 'open': 'Open', 'high': 'High', 'low': 'Low', 'close': 'Close', 'adjclose': 'Adj Close', 'volume': 'Volume'})\n",
    "  \n",
    "  data = data.set_index('Date')\n",
    "\n",
    "  # Print the column names in the data frame\n",
    "  print(f\"Column names for {asset}: {data.columns}\")\n",
    "\n",
    "  # Specify the column order\n",
    "  columns = ['Open', 'High', 'Low', 'Close', 'Adj Close', 'Volume']\n",
    "  \n",
    "  # Save the data to a CSV file\n",
    "  filename = \"./asset_historical_prices/\" + asset + \".csv\"\n",
    "  data.to_csv(filename, index=True, columns=columns)\n",
    "\n",
    "print(\"Done!\")\n"
   ]
  }
 ],
 "metadata": {
  "kernelspec": {
   "display_name": "dev",
   "language": "python",
   "name": "python3"
  },
  "language_info": {
   "codemirror_mode": {
    "name": "ipython",
    "version": 3
   },
   "file_extension": ".py",
   "mimetype": "text/x-python",
   "name": "python",
   "nbconvert_exporter": "python",
   "pygments_lexer": "ipython3",
   "version": "3.7.13"
  },
  "orig_nbformat": 4,
  "vscode": {
   "interpreter": {
    "hash": "6a7ae136a53a24601e63a177d18d4029f938b6714f24b844ae865dcffb9f6766"
   }
  }
 },
 "nbformat": 4,
 "nbformat_minor": 2
}
